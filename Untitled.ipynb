{
 "cells": [
  {
   "cell_type": "code",
   "execution_count": 1,
   "id": "9ca93372-6238-4ba5-9cc0-d878a036455f",
   "metadata": {},
   "outputs": [
    {
     "name": "stdout",
     "output_type": "stream",
     "text": [
      "Saved df1 to df1.csv\n",
      "Saved df2 to df2.csv\n"
     ]
    }
   ],
   "source": [
    "import pandas as pd\n",
    "import inspect\n",
    "\n",
    "def save_dfs_to_csv():\n",
    "    # Get the current global variables\n",
    "    global_vars = globals()\n",
    "    \n",
    "    # Iterate over all variables in the global namespace\n",
    "    for var_name, var_value in global_vars.items():\n",
    "        # Check if the variable is a DataFrame\n",
    "        if isinstance(var_value, pd.DataFrame):\n",
    "            # Save the DataFrame to a CSV file named after the variable\n",
    "            filename = f\"{var_name}.csv\"\n",
    "            var_value.to_csv(filename, index=False)\n",
    "            print(f\"Saved {var_name} to {filename}\")\n",
    "\n",
    "# Example usage\n",
    "df1 = pd.DataFrame({'a': [1, 2, 3], 'b': [4, 5, 6]})\n",
    "df2 = pd.DataFrame({'x': [7, 8, 9], 'y': [10, 11, 12]})\n",
    "\n",
    "# Call the function to save all DataFrames to CSV\n",
    "save_dfs_to_csv()"
   ]
  }
 ],
 "metadata": {
  "kernelspec": {
   "display_name": "Python 3 (ipykernel)",
   "language": "python",
   "name": "python3"
  },
  "language_info": {
   "codemirror_mode": {
    "name": "ipython",
    "version": 3
   },
   "file_extension": ".py",
   "mimetype": "text/x-python",
   "name": "python",
   "nbconvert_exporter": "python",
   "pygments_lexer": "ipython3",
   "version": "3.10.9"
  }
 },
 "nbformat": 4,
 "nbformat_minor": 5
}
