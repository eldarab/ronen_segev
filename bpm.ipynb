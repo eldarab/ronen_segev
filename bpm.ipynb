{
 "cells": [
  {
   "cell_type": "markdown",
   "id": "c1361f0a-0474-48f5-afb3-10184e1f5765",
   "metadata": {},
   "source": [
    "# Ronen Segev"
   ]
  },
  {
   "cell_type": "code",
   "execution_count": null,
   "id": "fe1fbd00-945d-42f8-b56a-953f1c465be8",
   "metadata": {},
   "outputs": [],
   "source": [
    "import os\n",
    "import pandas as pd\n",
    "import matplotlib.pyplot as plt"
   ]
  },
  {
   "cell_type": "markdown",
   "id": "265e9b7d-45f6-482a-884c-fb6fda33acbb",
   "metadata": {
    "jp-MarkdownHeadingCollapsed": true,
    "tags": []
   },
   "source": [
    "## נבדקים"
   ]
  },
  {
   "cell_type": "code",
   "execution_count": null,
   "id": "bcbc3bbe-9a05-44e4-bceb-4c0af5986661",
   "metadata": {},
   "outputs": [],
   "source": [
    "nivdakim_df = pd.read_csv(\"./שאלון לנבדק _מעבדה בפיזיולוגיה של החי_.csv\").rename(columns={\n",
    "    \"מספר נבדק\": \"participant\",\n",
    "    \"מין\": \"sex\",\n",
    "    \"מעשן/נת או לא מעשן/נת?\": \"is_smoker\",\n",
    "    \"מתאמן/נת או לא מתאמן/נת? \": \"is_excercising\",\n",
    "}).drop(columns=[\"חותמת זמן\", \"גיל\"])\n",
    "\n",
    "nivdakim_df[\"is_smoker\"] = nivdakim_df[\"is_smoker\"].apply(lambda x: x == \"כן\")\n",
    "nivdakim_df[\"is_excercising\"] = nivdakim_df[\"is_excercising\"].apply(lambda x: x == \"כן\")\n",
    "nivdakim_df[\"is_male\"] = nivdakim_df[\"sex\"].apply(lambda x: x == \"זכר\")\n",
    "nivdakim_df = nivdakim_df.drop(columns=[\"sex\"])\n",
    "\n",
    "smokers = nivdakim_df[nivdakim_df[\"is_smoker\"]][\"participant\"].tolist()\n",
    "excercisers = nivdakim_df[nivdakim_df[\"is_excercising\"]][\"participant\"].tolist()\n",
    "males = nivdakim_df[nivdakim_df[\"is_male\"]][\"participant\"].tolist()"
   ]
  },
  {
   "cell_type": "markdown",
   "id": "304b0c79-247b-4d85-af2a-149991bf727e",
   "metadata": {},
   "source": [
    "## Parse data"
   ]
  },
  {
   "cell_type": "code",
   "execution_count": null,
   "id": "a6c8aa21-acca-4f80-8372-5bdfab3aceaf",
   "metadata": {},
   "outputs": [
    {
     "name": "stdout",
     "output_type": "stream",
     "text": [
      "Unified data has been saved to 'unified_results.csv'.\n"
     ]
    }
   ],
   "source": [
    "# Define the folder containing the files\n",
    "folder_path = \"./results/\"\n",
    "\n",
    "# Initialize an empty DataFrame\n",
    "unified_data = pd.DataFrame()\n",
    "\n",
    "# Process each file in the folder\n",
    "for file_name in os.listdir(folder_path):\n",
    "    if file_name.endswith(\".txt\"):\n",
    "        # Extract participant and file type from file names\n",
    "        participant, file_type = file_name.split(\".\")[0], file_name.split(\".\")[1]\n",
    "\n",
    "        # Read the file into a DataFrame\n",
    "        file_path = os.path.join(folder_path, file_name)\n",
    "        df = pd.read_csv(file_path, comment=\"#\", header=None, names=[\"Marker ID\", \"bpm (s)\"])\n",
    "\n",
    "        # Add metadata columns\n",
    "        df[\"Participant\"] = participant\n",
    "        df[\"File Type\"] = file_type\n",
    "\n",
    "        # Append to the main DataFrame\n",
    "        unified_data = pd.concat([unified_data, df], ignore_index=True)\n",
    "\n",
    "# Save the unified DataFrame to a CSV or display it\n",
    "unified_data.to_csv(\"unified_results.csv\", index=False)\n",
    "print(\"Unified data has been saved to 'unified_results.csv'.\")"
   ]
  },
  {
   "cell_type": "markdown",
   "id": "e9f5d5d9-d83a-4702-b84a-916a1378e9dd",
   "metadata": {},
   "source": [
    "## Filter unnecessary rows and cols"
   ]
  },
  {
   "cell_type": "code",
   "execution_count": null,
   "id": "ee942047-666c-41d0-8a2b-d0ee0428ee48",
   "metadata": {},
   "outputs": [],
   "source": [
    "df = pd.read_csv(\"./unified_results.csv\")\n",
    "\n",
    "df = df.rename(columns={\n",
    "    \"Participant\": \"participant\",\n",
    "    \"Marker ID\": \"marker_id\",\n",
    "    \"bpm (s)\": \"bpm\",\n",
    "    \"File Type\": \"file_type\"\n",
    "})\n",
    "\n",
    "df[\"participant\"] = df[\"participant\"].astype(int)\n",
    "\n",
    "df = df[df[\"marker_id\"] == \"_ch0_neuron0\"]"
   ]
  },
  {
   "cell_type": "code",
   "execution_count": null,
   "id": "5c24cfb1-b690-4a04-bf06-dea86d905ea5",
   "metadata": {},
   "outputs": [],
   "source": [
    "bs_df = df[df[\"file_type\"] == \"bs-events\"]\n",
    "exp_df = df[df[\"file_type\"] == \"exp-events\"]\n",
    "\n",
    "bs_df = bs_df.drop(columns=[\"marker_id\", \"file_type\"], errors=\"ignore\")\n",
    "exp_df = exp_df.drop(columns=[\"marker_id\", \"file_type\"], errors=\"ignore\")\n",
    "\n",
    "assert len(bs_df) + len(exp_df) == len(df)"
   ]
  },
  {
   "cell_type": "code",
   "execution_count": null,
   "id": "2eb20829-3bef-4b90-93f1-c5799146db39",
   "metadata": {
    "tags": []
   },
   "outputs": [],
   "source": [
    "contr_before_run = bs_df[(bs_df[\"bpm\"] < 15) & (bs_df[\"participant\"] % 2 == 0)].groupby(\"participant\").count() * 4\n",
    "contr_recovery_0 = exp_df[(exp_df[\"bpm\"] < 15) & (exp_df[\"participant\"] % 2 == 0)].groupby(\"participant\").count() * 4\n",
    "contr_recovery_1 = exp_df[(exp_df[\"bpm\"] >= 15) & (exp_df[\"bpm\"] < 30) & (exp_df[\"participant\"] % 2 == 0)].groupby(\"participant\").count() * 4\n",
    "contr_recovery_2 = exp_df[(exp_df[\"bpm\"] >= 30) & (exp_df[\"bpm\"] < 45) & (exp_df[\"participant\"] % 2 == 0)].groupby(\"participant\").count() * 4\n",
    "contr_recovery_3 = exp_df[(exp_df[\"bpm\"] >= 45) & (exp_df[\"bpm\"] < 60) & (exp_df[\"participant\"] % 2 == 0)].groupby(\"participant\").count() * 4\n",
    "\n",
    "treat_before_run = bs_df[(bs_df[\"bpm\"] < 15) & (bs_df[\"participant\"] % 2 == 1)].groupby(\"participant\").count() * 4\n",
    "treat_recovery_0 = exp_df[(exp_df[\"bpm\"] < 15) & (exp_df[\"participant\"] % 2 == 1)].groupby(\"participant\").count() * 4\n",
    "treat_recovery_1 = exp_df[(exp_df[\"bpm\"] >= 15) & (exp_df[\"bpm\"] < 30) & (exp_df[\"participant\"] % 2 == 1)].groupby(\"participant\").count() * 4\n",
    "treat_recovery_2 = exp_df[(exp_df[\"bpm\"] >= 30) & (exp_df[\"bpm\"] < 45) & (exp_df[\"participant\"] % 2 == 1)].groupby(\"participant\").count() * 4\n",
    "treat_recovery_3 = exp_df[(exp_df[\"bpm\"] >= 45) & (exp_df[\"bpm\"] < 60) & (exp_df[\"participant\"] % 2 == 1)].groupby(\"participant\").count() * 4"
   ]
  },
  {
   "cell_type": "code",
   "execution_count": null,
   "id": "63f0a838-d00a-4ce3-8b02-9314091ac2ec",
   "metadata": {},
   "outputs": [],
   "source": [
    "contr_before_run = contr_before_run.reset_index()\n",
    "contr_recovery_0 = contr_recovery_0.reset_index()\n",
    "contr_recovery_1 = contr_recovery_1.reset_index()\n",
    "contr_recovery_2 = contr_recovery_2.reset_index()\n",
    "contr_recovery_3 = contr_recovery_3.reset_index()\n",
    "treat_before_run = treat_before_run.reset_index()\n",
    "treat_recovery_0 = treat_recovery_0.reset_index()\n",
    "treat_recovery_1 = treat_recovery_1.reset_index()\n",
    "treat_recovery_2 = treat_recovery_2.reset_index()\n",
    "treat_recovery_3 = treat_recovery_3.reset_index()\n",
    "\n",
    "smk_contr_before_run = contr_before_run[contr_before_run[\"participant\"].isin(smokers)] \n",
    "smk_contr_recovery_0 = contr_recovery_0[contr_recovery_0[\"participant\"].isin(smokers)] \n",
    "smk_contr_recovery_1 = contr_recovery_1[contr_recovery_1[\"participant\"].isin(smokers)] \n",
    "smk_contr_recovery_2 = contr_recovery_2[contr_recovery_2[\"participant\"].isin(smokers)] \n",
    "smk_contr_recovery_3 = contr_recovery_3[contr_recovery_3[\"participant\"].isin(smokers)] \n",
    "no_smk_contr_before_run = contr_before_run[~contr_before_run[\"participant\"].isin(smokers)]\n",
    "no_smk_contr_recovery_0 = contr_recovery_0[~contr_recovery_0[\"participant\"].isin(smokers)]\n",
    "no_smk_contr_recovery_1 = contr_recovery_1[~contr_recovery_1[\"participant\"].isin(smokers)]\n",
    "no_smk_contr_recovery_2 = contr_recovery_2[~contr_recovery_2[\"participant\"].isin(smokers)]\n",
    "no_smk_contr_recovery_3 = contr_recovery_3[~contr_recovery_3[\"participant\"].isin(smokers)]\n",
    "smk_treat_before_run = treat_before_run[treat_before_run[\"participant\"].isin(smokers)]\n",
    "smk_treat_recovery_0 = treat_recovery_0[treat_recovery_0[\"participant\"].isin(smokers)]\n",
    "smk_treat_recovery_1 = treat_recovery_1[treat_recovery_1[\"participant\"].isin(smokers)]\n",
    "smk_treat_recovery_2 = treat_recovery_2[treat_recovery_2[\"participant\"].isin(smokers)]\n",
    "smk_treat_recovery_3 = treat_recovery_3[treat_recovery_3[\"participant\"].isin(smokers)]\n",
    "no_smk_treat_before_run = treat_before_run[~treat_before_run[\"participant\"].isin(smokers)]\n",
    "no_smk_treat_recovery_0 = treat_recovery_0[~treat_recovery_0[\"participant\"].isin(smokers)]\n",
    "no_smk_treat_recovery_1 = treat_recovery_1[~treat_recovery_1[\"participant\"].isin(smokers)]\n",
    "no_smk_treat_recovery_2 = treat_recovery_2[~treat_recovery_2[\"participant\"].isin(smokers)]\n",
    "no_smk_treat_recovery_3 = treat_recovery_3[~treat_recovery_3[\"participant\"].isin(smokers)]\n",
    "\n",
    "excercise_contr_before_run = contr_before_run[contr_before_run[\"participant\"].isin(excercisers)] \n",
    "excercise_contr_recovery_0 = contr_recovery_0[contr_recovery_0[\"participant\"].isin(excercisers)] \n",
    "excercise_contr_recovery_1 = contr_recovery_1[contr_recovery_1[\"participant\"].isin(excercisers)] \n",
    "excercise_contr_recovery_2 = contr_recovery_2[contr_recovery_2[\"participant\"].isin(excercisers)] \n",
    "excercise_contr_recovery_3 = contr_recovery_3[contr_recovery_3[\"participant\"].isin(excercisers)] \n",
    "no_excercise_contr_before_run = contr_before_run[~contr_before_run[\"participant\"].isin(excercisers)]\n",
    "no_excercise_contr_recovery_0 = contr_recovery_0[~contr_recovery_0[\"participant\"].isin(excercisers)]\n",
    "no_excercise_contr_recovery_1 = contr_recovery_1[~contr_recovery_1[\"participant\"].isin(excercisers)]\n",
    "no_excercise_contr_recovery_2 = contr_recovery_2[~contr_recovery_2[\"participant\"].isin(excercisers)]\n",
    "no_excercise_contr_recovery_3 = contr_recovery_3[~contr_recovery_3[\"participant\"].isin(excercisers)]\n",
    "excercise_treat_before_run = treat_before_run[treat_before_run[\"participant\"].isin(excercisers)]\n",
    "excercise_treat_recovery_0 = treat_recovery_0[treat_recovery_0[\"participant\"].isin(excercisers)]\n",
    "excercise_treat_recovery_1 = treat_recovery_1[treat_recovery_1[\"participant\"].isin(excercisers)]\n",
    "excercise_treat_recovery_2 = treat_recovery_2[treat_recovery_2[\"participant\"].isin(excercisers)]\n",
    "excercise_treat_recovery_3 = treat_recovery_3[treat_recovery_3[\"participant\"].isin(excercisers)]\n",
    "no_excercise_treat_before_run = treat_before_run[~treat_before_run[\"participant\"].isin(excercisers)]\n",
    "no_excercise_treat_recovery_0 = treat_recovery_0[~treat_recovery_0[\"participant\"].isin(excercisers)]\n",
    "no_excercise_treat_recovery_1 = treat_recovery_1[~treat_recovery_1[\"participant\"].isin(excercisers)]\n",
    "no_excercise_treat_recovery_2 = treat_recovery_2[~treat_recovery_2[\"participant\"].isin(excercisers)]\n",
    "no_excercise_treat_recovery_3 = treat_recovery_3[~treat_recovery_3[\"participant\"].isin(excercisers)]\n",
    "\n",
    "male_contr_before_run = contr_before_run[contr_before_run[\"participant\"].isin(males)] \n",
    "male_contr_recovery_0 = contr_recovery_0[contr_recovery_0[\"participant\"].isin(males)] \n",
    "male_contr_recovery_1 = contr_recovery_1[contr_recovery_1[\"participant\"].isin(males)] \n",
    "male_contr_recovery_2 = contr_recovery_2[contr_recovery_2[\"participant\"].isin(males)] \n",
    "male_contr_recovery_3 = contr_recovery_3[contr_recovery_3[\"participant\"].isin(males)] \n",
    "female_contr_before_run = contr_before_run[~contr_before_run[\"participant\"].isin(males)]\n",
    "female_contr_recovery_0 = contr_recovery_0[~contr_recovery_0[\"participant\"].isin(males)]\n",
    "female_contr_recovery_1 = contr_recovery_1[~contr_recovery_1[\"participant\"].isin(males)]\n",
    "female_contr_recovery_2 = contr_recovery_2[~contr_recovery_2[\"participant\"].isin(males)]\n",
    "female_contr_recovery_3 = contr_recovery_3[~contr_recovery_3[\"participant\"].isin(males)]\n",
    "male_treat_before_run = treat_before_run[treat_before_run[\"participant\"].isin(males)]\n",
    "male_treat_recovery_0 = treat_recovery_0[treat_recovery_0[\"participant\"].isin(males)]\n",
    "male_treat_recovery_1 = treat_recovery_1[treat_recovery_1[\"participant\"].isin(males)]\n",
    "male_treat_recovery_2 = treat_recovery_2[treat_recovery_2[\"participant\"].isin(males)]\n",
    "male_treat_recovery_3 = treat_recovery_3[treat_recovery_3[\"participant\"].isin(males)]\n",
    "female_treat_before_run = treat_before_run[~treat_before_run[\"participant\"].isin(males)]\n",
    "female_treat_recovery_0 = treat_recovery_0[~treat_recovery_0[\"participant\"].isin(males)]\n",
    "female_treat_recovery_1 = treat_recovery_1[~treat_recovery_1[\"participant\"].isin(males)]\n",
    "female_treat_recovery_2 = treat_recovery_2[~treat_recovery_2[\"participant\"].isin(males)]\n",
    "female_treat_recovery_3 = treat_recovery_3[~treat_recovery_3[\"participant\"].isin(males)]"
   ]
  },
  {
   "cell_type": "markdown",
   "id": "86a64a07-f268-4ac2-bf07-85e2c8a7d382",
   "metadata": {},
   "source": [
    "## HRV ah sheli"
   ]
  },
  {
   "cell_type": "code",
   "execution_count": null,
   "id": "f3b0e015-e9ec-4809-b535-9a3308dccd97",
   "metadata": {},
   "outputs": [],
   "source": [
    "import pandas as pd\n",
    "import numpy as np\n",
    "\n",
    "exp_data = exp_df.rename(columns={\"bpm\": \"time\"})\n",
    "\n",
    "# Initialize an empty list to store results\n",
    "hrv_results = []\n",
    "\n",
    "# Loop through each participant\n",
    "for participant in exp_data[\"participant\"].unique():\n",
    "    # Extract data for the current participant\n",
    "    participant_data = exp_data[exp_data[\"participant\"] == participant]\n",
    "    \n",
    "    # Sort by time to ensure correct intervals\n",
    "    participant_data = participant_data.sort_values(\"time\")\n",
    "\n",
    "    # Calculate Inter-Beat Intervals (IBIs)\n",
    "    ibi = np.diff(participant_data[\"time\"].values)  # Time differences in seconds\n",
    "    \n",
    "    # Compute HRV metrics\n",
    "    mean_ibi = np.mean(ibi) if len(ibi) > 0 else np.nan\n",
    "    sdnn = np.std(ibi) if len(ibi) > 0 else np.nan\n",
    "    rmssd = np.sqrt(np.mean(np.diff(ibi)**2)) if len(ibi) > 1 else np.nan\n",
    "    pnn50 = np.sum(np.abs(np.diff(ibi)) > 0.05) / len(ibi) * 100 if len(ibi) > 1 else np.nan\n",
    "\n",
    "    # Append results for the participant\n",
    "    hrv_results.append({\n",
    "        \"participant\": participant,\n",
    "        \"Mean IBI (s)\": mean_ibi,\n",
    "        \"SDNN (s)\": sdnn,\n",
    "        \"RMSSD (s)\": rmssd,\n",
    "        \"pNN50 (%)\": pnn50,\n",
    "    })\n",
    "\n",
    "# Convert HRV results to a DataFrame\n",
    "hrv_df = pd.DataFrame(hrv_results).sort_values(\"participant\")\n",
    "\n",
    "# Display the HRV DataFrame to the user\n",
    "# import ace_tools as tools; tools.display_dataframe_to_user(name=\"HRV Metrics Per Participant\", dataframe=hrv_df)"
   ]
  },
  {
   "cell_type": "markdown",
   "id": "40917be7-5e3f-4669-bf97-ce631c5d0e8c",
   "metadata": {},
   "source": [
    "* Mean IBI: Average time between beats.\n",
    "* SDNN (Standard Deviation of NN intervals): Standard deviation of the IBIs.\n",
    "* RMSSD (Root Mean Square of Successive Differences): A measure of short-term HRV.\n",
    "* pNN50: Percentage of successive IBIs differing by more than 50 ms."
   ]
  },
  {
   "cell_type": "code",
   "execution_count": null,
   "id": "279edc81-3b73-4613-95eb-ec4858687c50",
   "metadata": {},
   "outputs": [
    {
     "data": {
      "text/html": [
       "<div>\n",
       "<style scoped>\n",
       "    .dataframe tbody tr th:only-of-type {\n",
       "        vertical-align: middle;\n",
       "    }\n",
       "\n",
       "    .dataframe tbody tr th {\n",
       "        vertical-align: top;\n",
       "    }\n",
       "\n",
       "    .dataframe thead th {\n",
       "        text-align: right;\n",
       "    }\n",
       "</style>\n",
       "<table border=\"1\" class=\"dataframe\">\n",
       "  <thead>\n",
       "    <tr style=\"text-align: right;\">\n",
       "      <th></th>\n",
       "      <th>participant</th>\n",
       "      <th>Mean IBI (s)</th>\n",
       "      <th>SDNN (s)</th>\n",
       "      <th>RMSSD (s)</th>\n",
       "      <th>pNN50 (%)</th>\n",
       "    </tr>\n",
       "  </thead>\n",
       "  <tbody>\n",
       "    <tr>\n",
       "      <th>0</th>\n",
       "      <td>1</td>\n",
       "      <td>0.637598</td>\n",
       "      <td>0.208824</td>\n",
       "      <td>0.231693</td>\n",
       "      <td>41.836735</td>\n",
       "    </tr>\n",
       "    <tr>\n",
       "      <th>10</th>\n",
       "      <td>2</td>\n",
       "      <td>0.509489</td>\n",
       "      <td>0.041386</td>\n",
       "      <td>0.007474</td>\n",
       "      <td>0.000000</td>\n",
       "    </tr>\n",
       "  </tbody>\n",
       "</table>\n",
       "</div>"
      ],
      "text/plain": [
       "    participant  Mean IBI (s)  SDNN (s)  RMSSD (s)  pNN50 (%)\n",
       "0             1      0.637598  0.208824   0.231693  41.836735\n",
       "10            2      0.509489  0.041386   0.007474   0.000000"
      ]
     },
     "execution_count": 9,
     "metadata": {},
     "output_type": "execute_result"
    }
   ],
   "source": [
    "hrv_df.head(2)"
   ]
  },
  {
   "cell_type": "markdown",
   "id": "da2c3546-a97e-46df-900a-79db521502e9",
   "metadata": {},
   "source": [
    "## Merge HRV ah sheli and BPM"
   ]
  },
  {
   "cell_type": "code",
   "execution_count": null,
   "id": "8468b2ff-b357-4866-8fd8-ec5a3aa3898e",
   "metadata": {},
   "outputs": [],
   "source": [
    "contr_hrv = hrv_df[hrv_df[\"participant\"].isin(contr_before_run[\"participant\"].tolist())]\n",
    "treat_hrv = hrv_df[hrv_df[\"participant\"].isin(treat_before_run[\"participant\"].tolist())]\n",
    "smk_contr_hrv = hrv_df[hrv_df[\"participant\"].isin(smk_contr_before_run[\"participant\"].tolist())]\n",
    "no_smk_contr_hrv = hrv_df[hrv_df[\"participant\"].isin(no_smk_contr_before_run[\"participant\"].tolist())]\n",
    "smk_treat_hrv = hrv_df[hrv_df[\"participant\"].isin(smk_treat_before_run[\"participant\"].tolist())]\n",
    "no_smk_treat_hrv = hrv_df[hrv_df[\"participant\"].isin(no_smk_treat_before_run[\"participant\"].tolist())]\n",
    "excercise_contr_hrv = hrv_df[hrv_df[\"participant\"].isin(excercise_contr_before_run[\"participant\"].tolist())]\n",
    "no_excercise_contr_hrv = hrv_df[hrv_df[\"participant\"].isin(no_excercise_contr_before_run[\"participant\"].tolist())]\n",
    "excercise_treat_hrv = hrv_df[hrv_df[\"participant\"].isin(excercise_treat_before_run[\"participant\"].tolist())]\n",
    "no_excercise_treat_hrv = hrv_df[hrv_df[\"participant\"].isin(no_excercise_treat_before_run[\"participant\"].tolist())]\n",
    "male_contr_hrv = hrv_df[hrv_df[\"participant\"].isin(male_contr_before_run[\"participant\"].tolist())]\n",
    "female_contr_hrv = hrv_df[hrv_df[\"participant\"].isin(female_contr_before_run[\"participant\"].tolist())]\n",
    "male_treat_hrv = hrv_df[hrv_df[\"participant\"].isin(male_treat_before_run[\"participant\"].tolist())]\n",
    "female_treat_hrv = hrv_df[hrv_df[\"participant\"].isin(female_treat_before_run[\"participant\"].tolist())]"
   ]
  },
  {
   "cell_type": "markdown",
   "id": "0fc78ce9-bfca-46c3-9957-9b5d9238ac67",
   "metadata": {},
   "source": [
    "## Save"
   ]
  },
  {
   "cell_type": "code",
   "execution_count": 13,
   "id": "53b0c164-e3e3-4b9d-b6a9-1587e9a4091f",
   "metadata": {},
   "outputs": [],
   "source": [
    "import pandas as pd\n",
    "import inspect\n",
    "\n",
    "def save_dfs_to_csv():\n",
    "    # Get the current global variables\n",
    "    global_vars = globals()\n",
    "    \n",
    "    # Iterate over all variables in the global namespace\n",
    "    for var_name, var_value in global_vars.items():\n",
    "        # Check if the variable is a DataFrame\n",
    "        if isinstance(var_value, pd.DataFrame):\n",
    "            # Save the DataFrame to a CSV file named after the variable\n",
    "            filename = f\"./to_ella/{var_name}.csv\"\n",
    "            var_value.to_csv(filename, index=False)\n",
    "            print(f\"Saved {var_name} to {filename}\")"
   ]
  },
  {
   "cell_type": "code",
   "execution_count": 15,
   "id": "6310db53-7783-4c86-abc2-776d9b4f61a2",
   "metadata": {},
   "outputs": [
    {
     "name": "stdout",
     "output_type": "stream",
     "text": [
      "Saved _ to ./to_ella/_.csv\n",
      "Saved nivdakim_df to ./to_ella/nivdakim_df.csv\n",
      "Saved unified_data to ./to_ella/unified_data.csv\n",
      "Saved df to ./to_ella/df.csv\n",
      "Saved bs_df to ./to_ella/bs_df.csv\n",
      "Saved exp_df to ./to_ella/exp_df.csv\n",
      "Saved contr_before_run to ./to_ella/contr_before_run.csv\n",
      "Saved contr_recovery_0 to ./to_ella/contr_recovery_0.csv\n",
      "Saved contr_recovery_1 to ./to_ella/contr_recovery_1.csv\n",
      "Saved contr_recovery_2 to ./to_ella/contr_recovery_2.csv\n",
      "Saved contr_recovery_3 to ./to_ella/contr_recovery_3.csv\n",
      "Saved treat_before_run to ./to_ella/treat_before_run.csv\n",
      "Saved treat_recovery_0 to ./to_ella/treat_recovery_0.csv\n",
      "Saved treat_recovery_1 to ./to_ella/treat_recovery_1.csv\n",
      "Saved treat_recovery_2 to ./to_ella/treat_recovery_2.csv\n",
      "Saved treat_recovery_3 to ./to_ella/treat_recovery_3.csv\n",
      "Saved smk_contr_before_run to ./to_ella/smk_contr_before_run.csv\n",
      "Saved smk_contr_recovery_0 to ./to_ella/smk_contr_recovery_0.csv\n",
      "Saved smk_contr_recovery_1 to ./to_ella/smk_contr_recovery_1.csv\n",
      "Saved smk_contr_recovery_2 to ./to_ella/smk_contr_recovery_2.csv\n",
      "Saved smk_contr_recovery_3 to ./to_ella/smk_contr_recovery_3.csv\n",
      "Saved no_smk_contr_before_run to ./to_ella/no_smk_contr_before_run.csv\n",
      "Saved no_smk_contr_recovery_0 to ./to_ella/no_smk_contr_recovery_0.csv\n",
      "Saved no_smk_contr_recovery_1 to ./to_ella/no_smk_contr_recovery_1.csv\n",
      "Saved no_smk_contr_recovery_2 to ./to_ella/no_smk_contr_recovery_2.csv\n",
      "Saved no_smk_contr_recovery_3 to ./to_ella/no_smk_contr_recovery_3.csv\n",
      "Saved smk_treat_before_run to ./to_ella/smk_treat_before_run.csv\n",
      "Saved smk_treat_recovery_0 to ./to_ella/smk_treat_recovery_0.csv\n",
      "Saved smk_treat_recovery_1 to ./to_ella/smk_treat_recovery_1.csv\n",
      "Saved smk_treat_recovery_2 to ./to_ella/smk_treat_recovery_2.csv\n",
      "Saved smk_treat_recovery_3 to ./to_ella/smk_treat_recovery_3.csv\n",
      "Saved no_smk_treat_before_run to ./to_ella/no_smk_treat_before_run.csv\n",
      "Saved no_smk_treat_recovery_0 to ./to_ella/no_smk_treat_recovery_0.csv\n",
      "Saved no_smk_treat_recovery_1 to ./to_ella/no_smk_treat_recovery_1.csv\n",
      "Saved no_smk_treat_recovery_2 to ./to_ella/no_smk_treat_recovery_2.csv\n",
      "Saved no_smk_treat_recovery_3 to ./to_ella/no_smk_treat_recovery_3.csv\n",
      "Saved excercise_contr_before_run to ./to_ella/excercise_contr_before_run.csv\n",
      "Saved excercise_contr_recovery_0 to ./to_ella/excercise_contr_recovery_0.csv\n",
      "Saved excercise_contr_recovery_1 to ./to_ella/excercise_contr_recovery_1.csv\n",
      "Saved excercise_contr_recovery_2 to ./to_ella/excercise_contr_recovery_2.csv\n",
      "Saved excercise_contr_recovery_3 to ./to_ella/excercise_contr_recovery_3.csv\n",
      "Saved no_excercise_contr_before_run to ./to_ella/no_excercise_contr_before_run.csv\n",
      "Saved no_excercise_contr_recovery_0 to ./to_ella/no_excercise_contr_recovery_0.csv\n",
      "Saved no_excercise_contr_recovery_1 to ./to_ella/no_excercise_contr_recovery_1.csv\n",
      "Saved no_excercise_contr_recovery_2 to ./to_ella/no_excercise_contr_recovery_2.csv\n",
      "Saved no_excercise_contr_recovery_3 to ./to_ella/no_excercise_contr_recovery_3.csv\n",
      "Saved excercise_treat_before_run to ./to_ella/excercise_treat_before_run.csv\n",
      "Saved excercise_treat_recovery_0 to ./to_ella/excercise_treat_recovery_0.csv\n",
      "Saved excercise_treat_recovery_1 to ./to_ella/excercise_treat_recovery_1.csv\n",
      "Saved excercise_treat_recovery_2 to ./to_ella/excercise_treat_recovery_2.csv\n",
      "Saved excercise_treat_recovery_3 to ./to_ella/excercise_treat_recovery_3.csv\n",
      "Saved no_excercise_treat_before_run to ./to_ella/no_excercise_treat_before_run.csv\n",
      "Saved no_excercise_treat_recovery_0 to ./to_ella/no_excercise_treat_recovery_0.csv\n",
      "Saved no_excercise_treat_recovery_1 to ./to_ella/no_excercise_treat_recovery_1.csv\n",
      "Saved no_excercise_treat_recovery_2 to ./to_ella/no_excercise_treat_recovery_2.csv\n",
      "Saved no_excercise_treat_recovery_3 to ./to_ella/no_excercise_treat_recovery_3.csv\n",
      "Saved male_contr_before_run to ./to_ella/male_contr_before_run.csv\n",
      "Saved male_contr_recovery_0 to ./to_ella/male_contr_recovery_0.csv\n",
      "Saved male_contr_recovery_1 to ./to_ella/male_contr_recovery_1.csv\n",
      "Saved male_contr_recovery_2 to ./to_ella/male_contr_recovery_2.csv\n",
      "Saved male_contr_recovery_3 to ./to_ella/male_contr_recovery_3.csv\n",
      "Saved female_contr_before_run to ./to_ella/female_contr_before_run.csv\n",
      "Saved female_contr_recovery_0 to ./to_ella/female_contr_recovery_0.csv\n",
      "Saved female_contr_recovery_1 to ./to_ella/female_contr_recovery_1.csv\n",
      "Saved female_contr_recovery_2 to ./to_ella/female_contr_recovery_2.csv\n",
      "Saved female_contr_recovery_3 to ./to_ella/female_contr_recovery_3.csv\n",
      "Saved male_treat_before_run to ./to_ella/male_treat_before_run.csv\n",
      "Saved male_treat_recovery_0 to ./to_ella/male_treat_recovery_0.csv\n",
      "Saved male_treat_recovery_1 to ./to_ella/male_treat_recovery_1.csv\n",
      "Saved male_treat_recovery_2 to ./to_ella/male_treat_recovery_2.csv\n",
      "Saved male_treat_recovery_3 to ./to_ella/male_treat_recovery_3.csv\n",
      "Saved female_treat_before_run to ./to_ella/female_treat_before_run.csv\n",
      "Saved female_treat_recovery_0 to ./to_ella/female_treat_recovery_0.csv\n",
      "Saved female_treat_recovery_1 to ./to_ella/female_treat_recovery_1.csv\n",
      "Saved female_treat_recovery_2 to ./to_ella/female_treat_recovery_2.csv\n",
      "Saved female_treat_recovery_3 to ./to_ella/female_treat_recovery_3.csv\n",
      "Saved exp_data to ./to_ella/exp_data.csv\n",
      "Saved participant_data to ./to_ella/participant_data.csv\n",
      "Saved hrv_df to ./to_ella/hrv_df.csv\n",
      "Saved _9 to ./to_ella/_9.csv\n",
      "Saved contr_hrv to ./to_ella/contr_hrv.csv\n",
      "Saved treat_hrv to ./to_ella/treat_hrv.csv\n",
      "Saved smk_contr_hrv to ./to_ella/smk_contr_hrv.csv\n",
      "Saved no_smk_contr_hrv to ./to_ella/no_smk_contr_hrv.csv\n",
      "Saved smk_treat_hrv to ./to_ella/smk_treat_hrv.csv\n",
      "Saved no_smk_treat_hrv to ./to_ella/no_smk_treat_hrv.csv\n",
      "Saved excercise_contr_hrv to ./to_ella/excercise_contr_hrv.csv\n",
      "Saved no_excercise_contr_hrv to ./to_ella/no_excercise_contr_hrv.csv\n",
      "Saved excercise_treat_hrv to ./to_ella/excercise_treat_hrv.csv\n",
      "Saved no_excercise_treat_hrv to ./to_ella/no_excercise_treat_hrv.csv\n",
      "Saved male_contr_hrv to ./to_ella/male_contr_hrv.csv\n",
      "Saved female_contr_hrv to ./to_ella/female_contr_hrv.csv\n",
      "Saved male_treat_hrv to ./to_ella/male_treat_hrv.csv\n",
      "Saved female_treat_hrv to ./to_ella/female_treat_hrv.csv\n"
     ]
    }
   ],
   "source": [
    "# Call the function to save all DataFrames to CSV\n",
    "save_dfs_to_csv()"
   ]
  },
  {
   "cell_type": "markdown",
   "id": "0a8199ac-66ce-4e9c-8b0d-23a745e4b9fe",
   "metadata": {
    "tags": []
   },
   "source": [
    "## ignore"
   ]
  },
  {
   "cell_type": "code",
   "execution_count": null,
   "id": "e2b9506a-377b-403b-bbe8-150730ac97db",
   "metadata": {},
   "outputs": [],
   "source": [
    "def viz_bpm_hist(data: pd.Series, subtitle: str = \"\") -> None:   \n",
    "    mean = data.mean()\n",
    "    std = data.std()\n",
    "    \n",
    "    data.hist()\n",
    "    plt.title(f\"BPM Histogram\\n{subtitle}\")\n",
    "    plt.xlabel(\"BPM\")\n",
    "    plt.ylabel(\"Frequency\")\n",
    "    plt.axvline(mean, color='red', linestyle='dashed', linewidth=2, label=f\"Mean: {mean:.2f}\")\n",
    "    plt.axvline(mean + std, color='blue', linestyle='dashed', linewidth=1, label=f\"Mean+Std: {mean+std:.2f}\")\n",
    "    plt.axvline(mean - std, color='blue', linestyle='dashed', linewidth=1, label=f\"Mean-Std: {mean-std:.2f}\")\n",
    "    plt.legend()\n",
    "    plt.show()"
   ]
  }
 ],
 "metadata": {
  "kernelspec": {
   "display_name": "Python 3 (ipykernel)",
   "language": "python",
   "name": "python3"
  },
  "language_info": {
   "codemirror_mode": {
    "name": "ipython",
    "version": 3
   },
   "file_extension": ".py",
   "mimetype": "text/x-python",
   "name": "python",
   "nbconvert_exporter": "python",
   "pygments_lexer": "ipython3",
   "version": "3.10.9"
  }
 },
 "nbformat": 4,
 "nbformat_minor": 5
}
